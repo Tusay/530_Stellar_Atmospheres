{
 "cells": [
  {
   "cell_type": "code",
   "execution_count": 1,
   "metadata": {},
   "outputs": [],
   "source": [
    "import sys\n",
    "sys.path.insert(1, '/storage/home/nxt5197/work/530_stellar_atmospheres/lib/')\n",
    "from statmospheres import Partition\n",
    "import pandas as pd\n",
    "import numpy as np\n",
    "import matplotlib.pyplot as plt\n",
    "plt.style.use('../lib/plt_format.mplstyle')\n",
    "from astropy import units as u\n",
    "from astropy import constants as const"
   ]
  },
  {
   "cell_type": "markdown",
   "metadata": {},
   "source": [
    "### Partition Function\n",
    "$U_r \\equiv \\sum_{s} g_{r,s} e^{-\\chi_{r,s}/kT}$ <br>\n",
    "### Saha Equation\n",
    "$\\Big[ \\frac{n_c}{n_i} \\Big]_{\\text{LTE}} = \\frac{1}{N_e} \\frac{2 g_c}{g_i} \\Big( \\frac{2 \\pi m_e kT}{h^2} \\Big)^{3/2} e^{-\\chi_{ci}/kT} $ <br>"
   ]
  },
  {
   "cell_type": "code",
   "execution_count": 2,
   "metadata": {},
   "outputs": [],
   "source": [
    "Partition_table=pd.read_csv('RepairedPartitionFunctions.txt',delimiter=r\"\\s+\", header=None)\n",
    "PTable=Partition_table.rename(columns={0: 'Element', 1: 0.2,2: 0.4,3: 0.6,4: 0.8,5: 1.0,6: 1.2,7: 1.4,8: 1.6,9: 1.8,10: 2.0,11: 'log g0'})"
   ]
  },
  {
   "cell_type": "code",
   "execution_count": 3,
   "metadata": {},
   "outputs": [
    {
     "data": {
      "text/plain": [
       "0.301"
      ]
     },
     "execution_count": 3,
     "metadata": {},
     "output_type": "execute_result"
    }
   ],
   "source": [
    "T = 5776*u.K\n",
    "element = 'H'\n",
    "\n",
    "Partition(PTable,element,T)"
   ]
  }
 ],
 "metadata": {
  "interpreter": {
   "hash": "dbf213ce58016b7602f3ba0efc2a89c94bf840a9d34d1627df77c52bdb9fbe6b"
  },
  "kernelspec": {
   "display_name": "Python 3.9.7 (conda)",
   "language": "python",
   "name": "python3"
  },
  "language_info": {
   "codemirror_mode": {
    "name": "ipython",
    "version": 3
   },
   "file_extension": ".py",
   "mimetype": "text/x-python",
   "name": "python",
   "nbconvert_exporter": "python",
   "pygments_lexer": "ipython3",
   "version": "3.9.7"
  },
  "orig_nbformat": 4
 },
 "nbformat": 4,
 "nbformat_minor": 2
}
