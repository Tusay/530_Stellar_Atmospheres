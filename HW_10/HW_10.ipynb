{
 "cells": [
  {
   "cell_type": "code",
   "execution_count": 1,
   "metadata": {},
   "outputs": [],
   "source": [
    "import sys\n",
    "import os\n",
    "sys.path.insert(1, '/storage/home/nxt5197/work/530_stellar_atmospheres/lib/')\n",
    "from statmospheres import Partition\n",
    "from statmospheres import Kappa_Hbf_2e\n",
    "from statmospheres import NIST_Phi\n",
    "from statmospheres import A_sol\n",
    "from statmospheres import NIST_Kappa_Total\n",
    "from statmospheres import NIST_Solve_Pe\n",
    "from statmospheres import Continuous_Opacity\n",
    "import pandas as pd\n",
    "import numpy as np\n",
    "import matplotlib.pyplot as plt\n",
    "plt.style.use('../lib/plt_format.mplstyle')\n",
    "from astropy import units as u\n",
    "from astropy import constants as const\n",
    "from scipy.special import wofz"
   ]
  },
  {
   "cell_type": "markdown",
   "metadata": {},
   "source": [
    "### Equation (9.8) Gray\n",
    "$\\sigma^l_\\nu = \\frac{\\sqrt{\\pi} e^2}{m_e c^2} f_{lu} \\frac{H(u,a)}{\\Delta \\lambda_D} \\lambda_0^2 \\: \\text{cm}^2$ Hz <br>\n",
    "$A_{ul} = 6.67 \\times 10^{13} \\frac{g_l}{g_u} \\frac{f_{lu}}{\\lambda^2} \\: \\text{s}^{-1}$ <br>\n",
    "$a = \\frac{\\gamma}{4 \\pi \\Delta \\nu_D}$ <br>\n",
    "$u = \\frac{\\nu - \\nu_0}{\\Delta \\nu_D}$ <br>\n",
    "$\\Delta \\nu_D = \\frac{\\nu_0}{c} \\sqrt{\\frac{2 k T}{m}+\\xi^2_\\text{micro}}$ <br>\n",
    "$\\Delta \\lambda_D = \\frac{\\lambda_0}{c} \\sqrt{\\frac{2 k T}{m}+\\xi^2_\\text{micro}}$ <br>"
   ]
  },
  {
   "cell_type": "code",
   "execution_count": 2,
   "metadata": {},
   "outputs": [],
   "source": [
    "os.chdir('/storage/home/nxt5197/work/530_stellar_atmospheres/lib')"
   ]
  },
  {
   "cell_type": "code",
   "execution_count": 3,
   "metadata": {},
   "outputs": [
    {
     "data": {
      "text/html": [
       "<div>\n",
       "<style scoped>\n",
       "    .dataframe tbody tr th:only-of-type {\n",
       "        vertical-align: middle;\n",
       "    }\n",
       "\n",
       "    .dataframe tbody tr th {\n",
       "        vertical-align: top;\n",
       "    }\n",
       "\n",
       "    .dataframe thead th {\n",
       "        text-align: right;\n",
       "    }\n",
       "</style>\n",
       "<table border=\"1\" class=\"dataframe\">\n",
       "  <thead>\n",
       "    <tr style=\"text-align: right;\">\n",
       "      <th></th>\n",
       "      <th>Element</th>\n",
       "      <th>0.2</th>\n",
       "      <th>0.4</th>\n",
       "      <th>0.6</th>\n",
       "      <th>0.8</th>\n",
       "      <th>1.0</th>\n",
       "      <th>1.2</th>\n",
       "      <th>1.4</th>\n",
       "      <th>1.6</th>\n",
       "      <th>1.8</th>\n",
       "      <th>2.0</th>\n",
       "      <th>log g0</th>\n",
       "    </tr>\n",
       "  </thead>\n",
       "  <tbody>\n",
       "    <tr>\n",
       "      <th>0</th>\n",
       "      <td>H</td>\n",
       "      <td>0.368</td>\n",
       "      <td>0.303</td>\n",
       "      <td>0.301</td>\n",
       "      <td>0.301</td>\n",
       "      <td>0.301</td>\n",
       "      <td>0.301</td>\n",
       "      <td>0.301</td>\n",
       "      <td>0.301</td>\n",
       "      <td>0.301</td>\n",
       "      <td>0.301</td>\n",
       "      <td>0.301</td>\n",
       "    </tr>\n",
       "    <tr>\n",
       "      <th>1</th>\n",
       "      <td>He</td>\n",
       "      <td>0.000</td>\n",
       "      <td>0.000</td>\n",
       "      <td>0.000</td>\n",
       "      <td>0.000</td>\n",
       "      <td>0.000</td>\n",
       "      <td>0.000</td>\n",
       "      <td>0.000</td>\n",
       "      <td>0.000</td>\n",
       "      <td>0.000</td>\n",
       "      <td>0.000</td>\n",
       "      <td>0.000</td>\n",
       "    </tr>\n",
       "    <tr>\n",
       "      <th>2</th>\n",
       "      <td>He+</td>\n",
       "      <td>0.301</td>\n",
       "      <td>0.301</td>\n",
       "      <td>0.301</td>\n",
       "      <td>0.301</td>\n",
       "      <td>0.301</td>\n",
       "      <td>0.301</td>\n",
       "      <td>0.301</td>\n",
       "      <td>0.301</td>\n",
       "      <td>0.301</td>\n",
       "      <td>0.301</td>\n",
       "      <td>0.301</td>\n",
       "    </tr>\n",
       "    <tr>\n",
       "      <th>3</th>\n",
       "      <td>Li</td>\n",
       "      <td>-</td>\n",
       "      <td>0.987</td>\n",
       "      <td>0.488</td>\n",
       "      <td>0.359</td>\n",
       "      <td>0.320</td>\n",
       "      <td>0.308</td>\n",
       "      <td>0.304</td>\n",
       "      <td>0.302</td>\n",
       "      <td>0.302</td>\n",
       "      <td>0.302</td>\n",
       "      <td>0.301</td>\n",
       "    </tr>\n",
       "    <tr>\n",
       "      <th>4</th>\n",
       "      <td>Be</td>\n",
       "      <td>-</td>\n",
       "      <td>0.328</td>\n",
       "      <td>0.087</td>\n",
       "      <td>0.025</td>\n",
       "      <td>0.007</td>\n",
       "      <td>0.002</td>\n",
       "      <td>0.001</td>\n",
       "      <td>0.000</td>\n",
       "      <td>0.000</td>\n",
       "      <td>0.000</td>\n",
       "      <td>0.000</td>\n",
       "    </tr>\n",
       "    <tr>\n",
       "      <th>...</th>\n",
       "      <td>...</td>\n",
       "      <td>...</td>\n",
       "      <td>...</td>\n",
       "      <td>...</td>\n",
       "      <td>...</td>\n",
       "      <td>...</td>\n",
       "      <td>...</td>\n",
       "      <td>...</td>\n",
       "      <td>...</td>\n",
       "      <td>...</td>\n",
       "      <td>...</td>\n",
       "      <td>...</td>\n",
       "    </tr>\n",
       "    <tr>\n",
       "      <th>242</th>\n",
       "      <td>Pa+</td>\n",
       "      <td>2.985</td>\n",
       "      <td>2.413</td>\n",
       "      <td>2.169</td>\n",
       "      <td>1.990</td>\n",
       "      <td>1.846</td>\n",
       "      <td>1.723</td>\n",
       "      <td>1.615</td>\n",
       "      <td>1.515</td>\n",
       "      <td>1.419</td>\n",
       "      <td>1.323</td>\n",
       "      <td>1.519</td>\n",
       "    </tr>\n",
       "    <tr>\n",
       "      <th>243</th>\n",
       "      <td>Pa++</td>\n",
       "      <td>-</td>\n",
       "      <td>2.106</td>\n",
       "      <td>1.845</td>\n",
       "      <td>1.652</td>\n",
       "      <td>1.469</td>\n",
       "      <td>1.281</td>\n",
       "      <td>1.088</td>\n",
       "      <td>0.895</td>\n",
       "      <td>0.708</td>\n",
       "      <td>0.532</td>\n",
       "      <td>-</td>\n",
       "    </tr>\n",
       "    <tr>\n",
       "      <th>244</th>\n",
       "      <td>U</td>\n",
       "      <td>3.221</td>\n",
       "      <td>2.696</td>\n",
       "      <td>2.298</td>\n",
       "      <td>2.032</td>\n",
       "      <td>1.849</td>\n",
       "      <td>1.719</td>\n",
       "      <td>1.623</td>\n",
       "      <td>1.552</td>\n",
       "      <td>1.498</td>\n",
       "      <td>1.455</td>\n",
       "      <td>1.929</td>\n",
       "    </tr>\n",
       "    <tr>\n",
       "      <th>245</th>\n",
       "      <td>U+</td>\n",
       "      <td>2.694</td>\n",
       "      <td>2.031</td>\n",
       "      <td>1.719</td>\n",
       "      <td>1.553</td>\n",
       "      <td>1.455</td>\n",
       "      <td>1.392</td>\n",
       "      <td>1.349</td>\n",
       "      <td>1.317</td>\n",
       "      <td>1.292</td>\n",
       "      <td>1.270</td>\n",
       "      <td>1.716</td>\n",
       "    </tr>\n",
       "    <tr>\n",
       "      <th>246</th>\n",
       "      <td>U++</td>\n",
       "      <td>2.137</td>\n",
       "      <td>1.653</td>\n",
       "      <td>1.454</td>\n",
       "      <td>1.362</td>\n",
       "      <td>1.305</td>\n",
       "      <td>1.259</td>\n",
       "      <td>1.217</td>\n",
       "      <td>1.178</td>\n",
       "      <td>1.140</td>\n",
       "      <td>1.105</td>\n",
       "      <td>-</td>\n",
       "    </tr>\n",
       "  </tbody>\n",
       "</table>\n",
       "<p>247 rows × 12 columns</p>\n",
       "</div>"
      ],
      "text/plain": [
       "    Element    0.2    0.4    0.6    0.8    1.0    1.2    1.4    1.6    1.8  \\\n",
       "0         H  0.368  0.303  0.301  0.301  0.301  0.301  0.301  0.301  0.301   \n",
       "1        He  0.000  0.000  0.000  0.000  0.000  0.000  0.000  0.000  0.000   \n",
       "2       He+  0.301  0.301  0.301  0.301  0.301  0.301  0.301  0.301  0.301   \n",
       "3        Li      -  0.987  0.488  0.359  0.320  0.308  0.304  0.302  0.302   \n",
       "4        Be      -  0.328  0.087  0.025  0.007  0.002  0.001  0.000  0.000   \n",
       "..      ...    ...    ...    ...    ...    ...    ...    ...    ...    ...   \n",
       "242     Pa+  2.985  2.413  2.169  1.990  1.846  1.723  1.615  1.515  1.419   \n",
       "243    Pa++      -  2.106  1.845  1.652  1.469  1.281  1.088  0.895  0.708   \n",
       "244       U  3.221  2.696  2.298  2.032  1.849  1.719  1.623  1.552  1.498   \n",
       "245      U+  2.694  2.031  1.719  1.553  1.455  1.392  1.349  1.317  1.292   \n",
       "246     U++  2.137  1.653  1.454  1.362  1.305  1.259  1.217  1.178  1.140   \n",
       "\n",
       "       2.0 log g0  \n",
       "0    0.301  0.301  \n",
       "1    0.000  0.000  \n",
       "2    0.301  0.301  \n",
       "3    0.302  0.301  \n",
       "4    0.000  0.000  \n",
       "..     ...    ...  \n",
       "242  1.323  1.519  \n",
       "243  0.532      -  \n",
       "244  1.455  1.929  \n",
       "245  1.270  1.716  \n",
       "246  1.105      -  \n",
       "\n",
       "[247 rows x 12 columns]"
      ]
     },
     "execution_count": 3,
     "metadata": {},
     "output_type": "execute_result"
    }
   ],
   "source": [
    "Partition_table=pd.read_csv('RepairedPartitionFunctions.txt',delimiter=r\"\\s+\", header=None)\n",
    "PTable=Partition_table.rename(columns={0: 'Element', 1: 0.2,2: 0.4,3: 0.6,4: 0.8,5: 1.0,6: 1.2,7: 1.4,8: 1.6,9: 1.8,10: 2.0,11: 'log g0'})\n",
    "PTable\n"
   ]
  },
  {
   "cell_type": "code",
   "execution_count": 4,
   "metadata": {},
   "outputs": [
    {
     "data": {
      "text/plain": [
       "2.2123184714236346"
      ]
     },
     "execution_count": 4,
     "metadata": {},
     "output_type": "execute_result"
    }
   ],
   "source": [
    "T = 5776*u.K\n",
    "element = 'Li'\n",
    "\n",
    "Partition(PTable,element,T)"
   ]
  },
  {
   "cell_type": "code",
   "execution_count": 5,
   "metadata": {},
   "outputs": [
    {
     "data": {
      "text/html": [
       "<div>\n",
       "<style scoped>\n",
       "    .dataframe tbody tr th:only-of-type {\n",
       "        vertical-align: middle;\n",
       "    }\n",
       "\n",
       "    .dataframe tbody tr th {\n",
       "        vertical-align: top;\n",
       "    }\n",
       "\n",
       "    .dataframe thead th {\n",
       "        text-align: right;\n",
       "    }\n",
       "</style>\n",
       "<table border=\"1\" class=\"dataframe\">\n",
       "  <thead>\n",
       "    <tr style=\"text-align: right;\">\n",
       "      <th></th>\n",
       "      <th>Atomic_Number</th>\n",
       "      <th>Element</th>\n",
       "      <th>Atomic_Weight</th>\n",
       "      <th>Ionization_Energy</th>\n",
       "    </tr>\n",
       "  </thead>\n",
       "  <tbody>\n",
       "    <tr>\n",
       "      <th>0</th>\n",
       "      <td>1</td>\n",
       "      <td>H</td>\n",
       "      <td>1.008</td>\n",
       "      <td>13.598434</td>\n",
       "    </tr>\n",
       "  </tbody>\n",
       "</table>\n",
       "</div>"
      ],
      "text/plain": [
       "   Atomic_Number Element  Atomic_Weight  Ionization_Energy\n",
       "0              1       H          1.008          13.598434"
      ]
     },
     "execution_count": 5,
     "metadata": {},
     "output_type": "execute_result"
    }
   ],
   "source": [
    "NistIonizTable = pd.read_csv('nist_ioniz.txt',delimiter='\\t',header=None)\n",
    "NistIonizTable=NistIonizTable.rename(columns={0: 'Atomic_Number', 1: 'Element',2: 'Atomic_Weight',3: 'Ionization_Energy'})\n",
    "NistIonizTable['Element'] = NistIonizTable['Element'].str.strip()\n",
    "# IonizTable = pd.read_fwf('ioniz.txt',header=None)\n",
    "# IonizTable=IonizTable.rename(columns={0: 'Atomic_Number', 1: 'Element',2: 'Atomic_Weight',3: 'Ionization_Energy_1',4: 'Ionization_Energy_2',5: 'Ionization_Energy_3'})\n",
    "NistIonizTable[NistIonizTable['Element']=='H']"
   ]
  },
  {
   "cell_type": "code",
   "execution_count": 6,
   "metadata": {},
   "outputs": [
    {
     "data": {
      "text/latex": [
       "$13.598434 \\; \\mathrm{eV}$"
      ],
      "text/plain": [
       "<Quantity 13.59843401 eV>"
      ]
     },
     "execution_count": 6,
     "metadata": {},
     "output_type": "execute_result"
    }
   ],
   "source": [
    "df=NistIonizTable\n",
    "element='H'\n",
    "row = df[df.Element==element]\n",
    "X = row['Ionization_Energy'].item()*u.eV\n",
    "X"
   ]
  },
  {
   "cell_type": "code",
   "execution_count": 7,
   "metadata": {},
   "outputs": [
    {
     "data": {
      "text/latex": [
       "$833555.14 \\; \\mathrm{}$"
      ],
      "text/plain": [
       "<Quantity 833555.13949913>"
      ]
     },
     "execution_count": 7,
     "metadata": {},
     "output_type": "execute_result"
    }
   ],
   "source": [
    "element='Ba'\n",
    "T = 7715*u.K\n",
    "NIST_Phi(NistIonizTable,PTable,element,T)"
   ]
  },
  {
   "cell_type": "code",
   "execution_count": 8,
   "metadata": {},
   "outputs": [
    {
     "data": {
      "text/plain": [
       "1.26e-11"
      ]
     },
     "execution_count": 8,
     "metadata": {},
     "output_type": "execute_result"
    }
   ],
   "source": [
    "ATable = pd.read_csv('SolarAbundance.txt',delimiter='\\t',header=0)\n",
    "df=ATable\n",
    "element='Li'\n",
    "df[df.element==element]\n",
    "\n",
    "def Aj(j):\n",
    "    return A_sol(ATable,j).A.item()\n",
    "\n",
    "Aj('Li')"
   ]
  },
  {
   "cell_type": "code",
   "execution_count": 9,
   "metadata": {},
   "outputs": [],
   "source": [
    "# element='Eu'\n",
    "# theta = 5040*u.K/T\n",
    "# row = df[df.Element==element]\n",
    "# thetas = list(df)[1:-1]\n",
    "# U_strs = [val for val in list(row.reset_index(drop=True).iloc[0][1:-1])]\n",
    "# nulls = []\n",
    "# for i,U in enumerate(U_strs):\n",
    "#     if U == '-':\n",
    "#         nulls.append(i)\n",
    "# for i in reversed(nulls):\n",
    "#     del thetas[i]\n",
    "#     del U_strs[i]\n",
    "# Us = [float(u) for u in U_strs]\n",
    "# U_r = np.interp(theta,thetas,Us)\n",
    "# U_r"
   ]
  },
  {
   "cell_type": "code",
   "execution_count": 10,
   "metadata": {},
   "outputs": [],
   "source": [
    "# list(PTable.Element[1:])"
   ]
  },
  {
   "cell_type": "code",
   "execution_count": 11,
   "metadata": {},
   "outputs": [
    {
     "name": "stdout",
     "output_type": "stream",
     "text": [
      "['H', 'He', 'Be', 'B', 'C', 'N', 'O', 'F', 'Ne', 'Na', 'Mg', 'Al', 'Si', 'P', 'S', 'Cl', 'Ar', 'K', 'Ca', 'Sc', 'Ti', 'V', 'Cr', 'Mn', 'Fe', 'Co', 'Ni', 'Cu', 'Zn', 'Ga', 'Ge', 'Rb', 'Sr', 'Y', 'Zr', 'Nb', 'Mo', 'Ru', 'Rh', 'Pd', 'Ag', 'Cd', 'In', 'Sn', 'Sb', 'Ba', 'La', 'Ce', 'Pr', 'Nd', 'Sm', 'Eu', 'Gd', 'Tb', 'Dy', 'Ho', 'Er', 'Tm', 'Yb', 'Lu', 'Hf', 'W', 'Os', 'Ir', 'Pt', 'Au', 'Hg', 'Tl', 'Pb', 'Bi', 'Th', 'U']\n"
     ]
    }
   ],
   "source": [
    "T = 5733*u.K\n",
    "elements=list(ATable[ATable.A>0].element)\n",
    "for element in elements:\n",
    "    if element not in list(PTable.Element):\n",
    "        elements.remove(element)\n",
    "    if element not in list(NistIonizTable.Element):\n",
    "        elements.remove(element)\n",
    "    if element!= 'H' and element+'+' not in list(PTable.Element[1:]):\n",
    "        elements.remove(element)\n",
    "# elements.insert(0, 'H')\n",
    "print(elements)\n",
    "# Pg = 10**4.95\n",
    "# Pef = NIST_Solve_Pe(Pg,elements,ATable,NistIonizTable,PTable,T)\n",
    "# print(np.log10(Pef))"
   ]
  },
  {
   "cell_type": "code",
   "execution_count": 12,
   "metadata": {},
   "outputs": [],
   "source": [
    "# Ts = [4310,4325,4345,4370,4405,4445,4488,4524,4561,4608,4660,4720,4800,4878,4995,5132,5294,5490,5733,6043,6429,6904,7467,7962,8358,8630,8811]\n",
    "# Pgs = [2.87,3.03,3.17,3.29,3.41,3.52,3.64,3.75,3.86,3.97,4.08,4.19,4.30,4.41,4.52,4.63,4.74,4.85,4.95,5.03,5.10,5.15,5.18,5.21,5.23,5.26,5.29]\n",
    "# Pes = [-1.16,-1.02,-0.89,-0.78,-0.66,-0.55,-0.44,-0.33,-0.23,-0.12,-0.01,0.10,0.22,0.34,0.47,0.61,0.76,0.93,1.15,1.43,1.78,2.18,2.59,2.92,3.16,3.32,3.42]\n",
    "# data = {'Temp': Ts, 'log_Pg': Pgs, 'log_Pe': Pes}\n",
    "# Table_9o2 = pd.DataFrame(data)\n",
    "# # Table_9o2"
   ]
  },
  {
   "cell_type": "code",
   "execution_count": 13,
   "metadata": {},
   "outputs": [],
   "source": [
    "# talbelen=len(Ts)\n",
    "# calc_Pe = [np.log10(NIST_Solve_Pe(10**Table_9o2.log_Pg.iloc[i],elements,ATable,NistIonizTable,PTable,Table_9o2.Temp.iloc[i]*u.K)) for i in range(talbelen)]"
   ]
  },
  {
   "cell_type": "code",
   "execution_count": 14,
   "metadata": {},
   "outputs": [],
   "source": [
    "# Table_9o2['calc_Pe'] = [round(x.value,2) for x in calc_Pe]\n",
    "# Table_9o2['Pe_diff'] = [Table_9o2.calc_Pe.iloc[i] - Table_9o2.log_Pe.iloc[i] for i in range(talbelen)]\n",
    "# Table_9o2"
   ]
  },
  {
   "cell_type": "code",
   "execution_count": 15,
   "metadata": {},
   "outputs": [
    {
     "name": "stdout",
     "output_type": "stream",
     "text": [
      "Sum of Abundances: 1.0861752053727\n",
      "Sum of Abundances times weights: 1.367107621952563\n"
     ]
    }
   ],
   "source": [
    "SumA = 0\n",
    "SumAmu = 0\n",
    "for i in range(30):\n",
    "    SumA += ATable.A.iloc[i].item()\n",
    "    SumAmu += ATable.weight.iloc[i].item()*ATable.A.iloc[i].item()\n",
    "print(f'Sum of Abundances: {SumA}\\nSum of Abundances times weights: {SumAmu}')"
   ]
  },
  {
   "cell_type": "code",
   "execution_count": 16,
   "metadata": {},
   "outputs": [
    {
     "name": "stdout",
     "output_type": "stream",
     "text": [
      "Sum of Abundances: 0.0010752126721989992\n",
      "Sum of Abundances times weights: 0.018453079261262224\n"
     ]
    }
   ],
   "source": [
    "SumA = 0\n",
    "SumAmu = 0\n",
    "for i in range(2,len(ATable)):\n",
    "    if ATable.A.iloc[i].item() > 0:\n",
    "        SumA += ATable.A.iloc[i].item()\n",
    "        SumAmu += ATable.weight.iloc[i].item()*ATable.A.iloc[i].item()\n",
    "print(f'Sum of Abundances: {SumA}\\nSum of Abundances times weights: {SumAmu}')"
   ]
  },
  {
   "cell_type": "code",
   "execution_count": 17,
   "metadata": {},
   "outputs": [
    {
     "data": {
      "text/html": [
       "<div>\n",
       "<style scoped>\n",
       "    .dataframe tbody tr th:only-of-type {\n",
       "        vertical-align: middle;\n",
       "    }\n",
       "\n",
       "    .dataframe tbody tr th {\n",
       "        vertical-align: top;\n",
       "    }\n",
       "\n",
       "    .dataframe thead th {\n",
       "        text-align: right;\n",
       "    }\n",
       "</style>\n",
       "<table border=\"1\" class=\"dataframe\">\n",
       "  <thead>\n",
       "    <tr style=\"text-align: right;\">\n",
       "      <th></th>\n",
       "      <th>h</th>\n",
       "      <th>m</th>\n",
       "      <th>tau_500</th>\n",
       "      <th>T</th>\n",
       "      <th>V</th>\n",
       "      <th>n_H</th>\n",
       "      <th>n_e</th>\n",
       "      <th>Ptotal</th>\n",
       "      <th>Pgas/Ptotal</th>\n",
       "      <th>rho</th>\n",
       "    </tr>\n",
       "  </thead>\n",
       "  <tbody>\n",
       "    <tr>\n",
       "      <th>0</th>\n",
       "      <td>2543</td>\n",
       "      <td>5.257e-06</td>\n",
       "      <td>0.</td>\n",
       "      <td>447000</td>\n",
       "      <td>11.28</td>\n",
       "      <td>1.005e+09</td>\n",
       "      <td>1.205e+09</td>\n",
       "      <td>1.440e-01</td>\n",
       "      <td>0.9896</td>\n",
       "      <td>2.349e-15</td>\n",
       "    </tr>\n",
       "    <tr>\n",
       "      <th>1</th>\n",
       "      <td>2298</td>\n",
       "      <td>5.365e-06</td>\n",
       "      <td>3.712e-08</td>\n",
       "      <td>141000</td>\n",
       "      <td>9.87</td>\n",
       "      <td>3.205e+09</td>\n",
       "      <td>3.839e+09</td>\n",
       "      <td>1.470e-01</td>\n",
       "      <td>0.9752</td>\n",
       "      <td>7.494e-15</td>\n",
       "    </tr>\n",
       "    <tr>\n",
       "      <th>2</th>\n",
       "      <td>2290</td>\n",
       "      <td>5.373e-06</td>\n",
       "      <td>3.969e-08</td>\n",
       "      <td>89100</td>\n",
       "      <td>9.82</td>\n",
       "      <td>5.041e+09</td>\n",
       "      <td>5.961e+09</td>\n",
       "      <td>1.472e-01</td>\n",
       "      <td>0.9614</td>\n",
       "      <td>1.179e-14</td>\n",
       "    </tr>\n",
       "    <tr>\n",
       "      <th>3</th>\n",
       "      <td>2280</td>\n",
       "      <td>5.389e-06</td>\n",
       "      <td>4.491e-08</td>\n",
       "      <td>50000</td>\n",
       "      <td>9.76</td>\n",
       "      <td>9.038e+09</td>\n",
       "      <td>9.993e+09</td>\n",
       "      <td>1.477e-01</td>\n",
       "      <td>0.9318</td>\n",
       "      <td>2.113e-14</td>\n",
       "    </tr>\n",
       "    <tr>\n",
       "      <th>4</th>\n",
       "      <td>2274</td>\n",
       "      <td>5.404e-06</td>\n",
       "      <td>4.952e-08</td>\n",
       "      <td>37000</td>\n",
       "      <td>9.73</td>\n",
       "      <td>1.201e+10</td>\n",
       "      <td>1.318e+10</td>\n",
       "      <td>1.481e-01</td>\n",
       "      <td>0.9102</td>\n",
       "      <td>2.808e-14</td>\n",
       "    </tr>\n",
       "  </tbody>\n",
       "</table>\n",
       "</div>"
      ],
      "text/plain": [
       "      h          m    tau_500       T      V        n_H        n_e     Ptotal  \\\n",
       "0  2543  5.257e-06         0.  447000  11.28  1.005e+09  1.205e+09  1.440e-01   \n",
       "1  2298  5.365e-06  3.712e-08  141000   9.87  3.205e+09  3.839e+09  1.470e-01   \n",
       "2  2290  5.373e-06  3.969e-08   89100   9.82  5.041e+09  5.961e+09  1.472e-01   \n",
       "3  2280  5.389e-06  4.491e-08   50000   9.76  9.038e+09  9.993e+09  1.477e-01   \n",
       "4  2274  5.404e-06  4.952e-08   37000   9.73  1.201e+10  1.318e+10  1.481e-01   \n",
       "\n",
       "   Pgas/Ptotal        rho  \n",
       "0       0.9896  2.349e-15  \n",
       "1       0.9752  7.494e-15  \n",
       "2       0.9614  1.179e-14  \n",
       "3       0.9318  2.113e-14  \n",
       "4       0.9102  2.808e-14  "
      ]
     },
     "execution_count": 17,
     "metadata": {},
     "output_type": "execute_result"
    }
   ],
   "source": [
    "ValTable = pd.read_csv('VALIIIC.txt', delim_whitespace=True, escapechar='#',skiprows=[0,1,2,3,5])\n",
    "ValTable = ValTable.replace('d','e', regex=True)\n",
    "ValTable[0:5]"
   ]
  },
  {
   "cell_type": "code",
   "execution_count": 18,
   "metadata": {},
   "outputs": [
    {
     "data": {
      "text/html": [
       "<div>\n",
       "<style scoped>\n",
       "    .dataframe tbody tr th:only-of-type {\n",
       "        vertical-align: middle;\n",
       "    }\n",
       "\n",
       "    .dataframe tbody tr th {\n",
       "        vertical-align: top;\n",
       "    }\n",
       "\n",
       "    .dataframe thead th {\n",
       "        text-align: right;\n",
       "    }\n",
       "</style>\n",
       "<table border=\"1\" class=\"dataframe\">\n",
       "  <thead>\n",
       "    <tr style=\"text-align: right;\">\n",
       "      <th></th>\n",
       "      <th>h</th>\n",
       "      <th>m</th>\n",
       "      <th>tau_500</th>\n",
       "      <th>T</th>\n",
       "      <th>V</th>\n",
       "      <th>n_H</th>\n",
       "      <th>n_e</th>\n",
       "      <th>Ptotal</th>\n",
       "      <th>Pgas/Ptotal</th>\n",
       "      <th>rho</th>\n",
       "    </tr>\n",
       "  </thead>\n",
       "  <tbody>\n",
       "    <tr>\n",
       "      <th>0</th>\n",
       "      <td>2543</td>\n",
       "      <td>5.257e-06</td>\n",
       "      <td>0</td>\n",
       "      <td>447000</td>\n",
       "      <td>11.28</td>\n",
       "      <td>1.005e+09</td>\n",
       "      <td>1.205e+09</td>\n",
       "      <td>0.144</td>\n",
       "      <td>0.9896</td>\n",
       "      <td>2.349e-15</td>\n",
       "    </tr>\n",
       "    <tr>\n",
       "      <th>1</th>\n",
       "      <td>2298</td>\n",
       "      <td>5.365e-06</td>\n",
       "      <td>3.712e-08</td>\n",
       "      <td>141000</td>\n",
       "      <td>9.87</td>\n",
       "      <td>3.205e+09</td>\n",
       "      <td>3.839e+09</td>\n",
       "      <td>0.147</td>\n",
       "      <td>0.9752</td>\n",
       "      <td>7.494e-15</td>\n",
       "    </tr>\n",
       "    <tr>\n",
       "      <th>2</th>\n",
       "      <td>2290</td>\n",
       "      <td>5.373e-06</td>\n",
       "      <td>3.969e-08</td>\n",
       "      <td>89100</td>\n",
       "      <td>9.82</td>\n",
       "      <td>5.041e+09</td>\n",
       "      <td>5.961e+09</td>\n",
       "      <td>0.1472</td>\n",
       "      <td>0.9614</td>\n",
       "      <td>1.179e-14</td>\n",
       "    </tr>\n",
       "    <tr>\n",
       "      <th>3</th>\n",
       "      <td>2280</td>\n",
       "      <td>5.389e-06</td>\n",
       "      <td>4.491e-08</td>\n",
       "      <td>50000</td>\n",
       "      <td>9.76</td>\n",
       "      <td>9.038e+09</td>\n",
       "      <td>9.993e+09</td>\n",
       "      <td>0.1477</td>\n",
       "      <td>0.9318</td>\n",
       "      <td>2.113e-14</td>\n",
       "    </tr>\n",
       "    <tr>\n",
       "      <th>4</th>\n",
       "      <td>2274</td>\n",
       "      <td>5.404e-06</td>\n",
       "      <td>4.952e-08</td>\n",
       "      <td>37000</td>\n",
       "      <td>9.73</td>\n",
       "      <td>1.201e+10</td>\n",
       "      <td>1.318e+10</td>\n",
       "      <td>0.1481</td>\n",
       "      <td>0.9102</td>\n",
       "      <td>2.808e-14</td>\n",
       "    </tr>\n",
       "  </tbody>\n",
       "</table>\n",
       "</div>"
      ],
      "text/plain": [
       "      h         m   tau_500       T     V       n_H       n_e  Ptotal  \\\n",
       "0  2543 5.257e-06         0  447000 11.28 1.005e+09 1.205e+09   0.144   \n",
       "1  2298 5.365e-06 3.712e-08  141000  9.87 3.205e+09 3.839e+09   0.147   \n",
       "2  2290 5.373e-06 3.969e-08   89100  9.82 5.041e+09 5.961e+09  0.1472   \n",
       "3  2280 5.389e-06 4.491e-08   50000  9.76 9.038e+09 9.993e+09  0.1477   \n",
       "4  2274 5.404e-06 4.952e-08   37000  9.73 1.201e+10 1.318e+10  0.1481   \n",
       "\n",
       "   Pgas/Ptotal       rho  \n",
       "0       0.9896 2.349e-15  \n",
       "1       0.9752 7.494e-15  \n",
       "2       0.9614 1.179e-14  \n",
       "3       0.9318 2.113e-14  \n",
       "4       0.9102 2.808e-14  "
      ]
     },
     "execution_count": 18,
     "metadata": {},
     "output_type": "execute_result"
    }
   ],
   "source": [
    "pd.set_option('display.float_format', '{:.4g}'.format)\n",
    "ValTable = ValTable.apply(pd.to_numeric)\n",
    "ValTable[0:5]"
   ]
  },
  {
   "cell_type": "code",
   "execution_count": 19,
   "metadata": {},
   "outputs": [
    {
     "name": "stdout",
     "output_type": "stream",
     "text": [
      "Count exceeded. While loop broken.\n",
      "Pef: 56.010865870794184\n",
      "Pei: 56.01066245949288\n",
      "It took 50 iterations to calculate P_e\n"
     ]
    }
   ],
   "source": [
    "Valen = len(ValTable)\n",
    "P_es = [0 for i in range(Valen)]\n",
    "P_e_ideals = [0 for i in range(Valen)]\n",
    "log_n_ps = [0 for i in range(Valen)]\n",
    "for i in range(48,49):\n",
    "    row = ValTable.iloc[i]\n",
    "    Pgas = row['Ptotal']*row['Pgas/Ptotal']\n",
    "    Temp = row['T']*u.K\n",
    "    n_H = row['n_H']\n",
    "    Phi_H = NIST_Phi(NistIonizTable, PTable, 'H', Temp)\n",
    "    P_e = NIST_Solve_Pe(Pgas,elements,ATable,NistIonizTable,PTable,Temp)\n",
    "    P_es[i] = P_e\n",
    "    k = const.k_B.cgs\n",
    "    n_e = row['n_e']\n",
    "    P_e_ideal = n_e*k*Temp/u.erg\n",
    "    P_e_ideals[i] = P_e_ideal\n",
    "    n_p = n_H*Phi_H/P_e_ideal\n",
    "    log_n_ps[i] = np.log10(n_p)\n",
    "ValTable['P_e'] = P_es\n",
    "ValTable['log(n_p)'] = log_n_ps\n",
    "ValTable['log(n_e)'] = [np.log10(i) for i in ValTable['n_e']]"
   ]
  },
  {
   "cell_type": "code",
   "execution_count": 20,
   "metadata": {},
   "outputs": [
    {
     "data": {
      "text/html": [
       "<div>\n",
       "<style scoped>\n",
       "    .dataframe tbody tr th:only-of-type {\n",
       "        vertical-align: middle;\n",
       "    }\n",
       "\n",
       "    .dataframe tbody tr th {\n",
       "        vertical-align: top;\n",
       "    }\n",
       "\n",
       "    .dataframe thead th {\n",
       "        text-align: right;\n",
       "    }\n",
       "</style>\n",
       "<table border=\"1\" class=\"dataframe\">\n",
       "  <thead>\n",
       "    <tr style=\"text-align: right;\">\n",
       "      <th></th>\n",
       "      <th>h</th>\n",
       "      <th>m</th>\n",
       "      <th>tau_500</th>\n",
       "      <th>T</th>\n",
       "      <th>V</th>\n",
       "      <th>n_H</th>\n",
       "      <th>n_e</th>\n",
       "      <th>Ptotal</th>\n",
       "      <th>Pgas/Ptotal</th>\n",
       "      <th>rho</th>\n",
       "      <th>P_e</th>\n",
       "      <th>log(n_p)</th>\n",
       "      <th>log(n_e)</th>\n",
       "    </tr>\n",
       "  </thead>\n",
       "  <tbody>\n",
       "    <tr>\n",
       "      <th>47</th>\n",
       "      <td>50</td>\n",
       "      <td>3.056</td>\n",
       "      <td>0.4395</td>\n",
       "      <td>5840</td>\n",
       "      <td>1.4</td>\n",
       "      <td>9.203e+16</td>\n",
       "      <td>2.122e+13</td>\n",
       "      <td>8.274e+04</td>\n",
       "      <td>0.9748</td>\n",
       "      <td>2.152e-07</td>\n",
       "      <td>0</td>\n",
       "      <td>0</td>\n",
       "      <td>13.33</td>\n",
       "    </tr>\n",
       "    <tr>\n",
       "      <th>48</th>\n",
       "      <td>0</td>\n",
       "      <td>4.279</td>\n",
       "      <td>0.9953</td>\n",
       "      <td>6420</td>\n",
       "      <td>1.6</td>\n",
       "      <td>1.166e+17</td>\n",
       "      <td>6.433e+13</td>\n",
       "      <td>1.172e+05</td>\n",
       "      <td>0.9702</td>\n",
       "      <td>2.727e-07</td>\n",
       "      <td>56.010865870794184</td>\n",
       "      <td>13.676898273505962</td>\n",
       "      <td>13.81</td>\n",
       "    </tr>\n",
       "    <tr>\n",
       "      <th>49</th>\n",
       "      <td>-25</td>\n",
       "      <td>4.991</td>\n",
       "      <td>1.683</td>\n",
       "      <td>6910</td>\n",
       "      <td>1.7</td>\n",
       "      <td>1.261e+17</td>\n",
       "      <td>1.547e+14</td>\n",
       "      <td>1.368e+05</td>\n",
       "      <td>0.9688</td>\n",
       "      <td>2.949e-07</td>\n",
       "      <td>0</td>\n",
       "      <td>0</td>\n",
       "      <td>14.19</td>\n",
       "    </tr>\n",
       "  </tbody>\n",
       "</table>\n",
       "</div>"
      ],
      "text/plain": [
       "     h     m  tau_500     T   V       n_H       n_e    Ptotal  Pgas/Ptotal  \\\n",
       "47  50 3.056   0.4395  5840 1.4 9.203e+16 2.122e+13 8.274e+04       0.9748   \n",
       "48   0 4.279   0.9953  6420 1.6 1.166e+17 6.433e+13 1.172e+05       0.9702   \n",
       "49 -25 4.991    1.683  6910 1.7 1.261e+17 1.547e+14 1.368e+05       0.9688   \n",
       "\n",
       "         rho                 P_e            log(n_p)  log(n_e)  \n",
       "47 2.152e-07                   0                   0     13.33  \n",
       "48 2.727e-07  56.010865870794184  13.676898273505962     13.81  \n",
       "49 2.949e-07                   0                   0     14.19  "
      ]
     },
     "execution_count": 20,
     "metadata": {},
     "output_type": "execute_result"
    }
   ],
   "source": [
    "ValTable[47:50]"
   ]
  },
  {
   "cell_type": "code",
   "execution_count": 29,
   "metadata": {},
   "outputs": [
    {
     "name": "stdout",
     "output_type": "stream",
     "text": [
      "Warning: Error in the partition function. Using a value of 0.\n",
      "\n",
      "Ground Fraction:\t0.8587\n",
      "Neutral Fraction:\t6.4112e-04\n",
      "Lines:\t\t\t5890\t5896\n",
      "log_10 gamma_4:\t\t7.462\t7.355\n",
      "log_10 gamma_6:\t\t9.711\t9.711\n",
      "Del lambda D:\t\t0.0527\t0.0528\n",
      "Stimulated Emission:\t0.9777\t0.9777\n"
     ]
    }
   ],
   "source": [
    "lams = [589.0,589.6]*u.nm # in nm\n",
    "A_uls = [6.11e7,6.10e7]/u.s\n",
    "g_us = [4,2]\n",
    "g_ls = [2,2]\n",
    "c = const.c.cgs\n",
    "pi = np.pi\n",
    "kB = const.k_B.cgs\n",
    "m_e = const.m_e.cgs\n",
    "m = 22.99*1.66e-24*u.g\n",
    "e = 4.8032e-10*(u.cm**1.5*u.g**0.5/u.s)\n",
    "gamma_rads = [4*pi*10**7.799,4*pi*10**7.798]\n",
    "logC4s = [-15.17,-15.33]\n",
    "sigma_lines=[0,0]\n",
    "log_gamma_4 = [0,0]\n",
    "log_gamma_6 = [0,0]\n",
    "DelamDs = [0,0]\n",
    "Stim_Em = [0,0]\n",
    "for i,lam0 in enumerate(lams):\n",
    "    lam = np.linspace(588.6,590,1000)*u.nm\n",
    "    nu = c/lam\n",
    "    nu0 = c/lam0\n",
    "    T = ValTable['T'][48]*u.K\n",
    "    # natural broadening\n",
    "    gamma_rad = gamma_rads[i]/u.s\n",
    "    # quadratic Stark\n",
    "    logC4 = logC4s[i]\n",
    "    P_e = ValTable['P_e'][48]\n",
    "    gamma_4 = 10**(19+2/3*logC4+np.log10(P_e)-5/6*np.log10(T/u.K))/u.s\n",
    "    log_gamma_4[i] = np.log10(gamma_4*u.s)\n",
    "    # Van der Waals\n",
    "    logC6 = -31.7\n",
    "    P_g = ValTable['Ptotal'][48]*ValTable['Pgas/Ptotal'][48]\n",
    "    gamma_6 = 10**(20 + 0.4*logC6 + np.log10(P_g) - 0.7*np.log10(T/u.K))/u.s\n",
    "    log_gamma_6[i] = np.log10(gamma_6*u.s)\n",
    "    gammas = gamma_rad + gamma_4 + gamma_6\n",
    "    # microturbulence\n",
    "    micro = ValTable['V'][48]*u.km/u.s\n",
    "    DelvD = nu0/c*np.sqrt(2*kB*T/m+micro**2)\n",
    "    a = gammas/(4*pi*DelvD)\n",
    "    v = (nu-nu0)/DelvD\n",
    "    Hua = np.real(wofz(v + 1j * a))\n",
    "    A_ul = A_uls[i]\n",
    "    g_u = g_us[i]\n",
    "    g_l = g_ls[i]\n",
    "    f_lu = A_ul*u.s/(6.67*10**13)*g_u/g_l*(lam/u.nm)**2\n",
    "    DelamD = lam0/c*np.sqrt(2*kB*T/m+micro**2)\n",
    "    DelamDs[i] = DelamD.to(u.AA)\n",
    "    sigma_lines[i] = np.sqrt(pi) * e**2 / (m_e * c**2) * f_lu * Hua/DelamD*lam0**2\n",
    "    theta = 5040*u.K/T\n",
    "    X_lam = (1.2398*10**4/(lam0.to(u.AA))).value\n",
    "    Stim_Em[i] = 1-10**(-X_lam*theta)\n",
    "E0 = 0 # float(NistIonizTable[NistIonizTable['Element']=='Na']['Ionization_Energy'].item())\n",
    "Ground = 10**float(PTable[PTable.Element=='Na']['log g0'].item())/Partition(PTable,'Na',T)*np.exp((-E0/kB/T).value)\n",
    "Phi_Na = NIST_Phi(NistIonizTable, PTable, 'Na', T)\n",
    "Phi_NaI = NIST_Phi(NistIonizTable, PTable, 'Na+', T)\n",
    "Neutral = N1s_Na = 1/(1+Phi_Na/P_e+Phi_Na/P_e*Phi_NaI/P_e)\n",
    "print(f'\\nGround Fraction:\\t{Ground:.4f}')\n",
    "print(f'Neutral Fraction:\\t{Neutral:.4e}')\n",
    "print(f'Lines:\\t\\t\\t{lams[0].to(u.AA).value:.0f}\\t{lams[1].to(u.AA).value:.0f}')\n",
    "print(f'log_10 gamma_4:\\t\\t{log_gamma_4[0]:.3f}\\t{log_gamma_4[1]:.3f}')\n",
    "print(f'log_10 gamma_6:\\t\\t{log_gamma_6[0]:.3f}\\t{log_gamma_6[1]:.3f}')\n",
    "print(f'Del lambda D:\\t\\t{DelamDs[0].value:.4f}\\t{DelamDs[1].value:.4f}')\n",
    "print(f'Stimulated Emission:\\t{Stim_Em[0]:.4f}\\t{Stim_Em[1]:.4f}')"
   ]
  },
  {
   "cell_type": "code",
   "execution_count": 22,
   "metadata": {},
   "outputs": [],
   "source": [
    "@u.quantity_input(lam=u.nm)\n",
    "def sigma(lam):\n",
    "    lams = [589.0,589.6]*u.nm # in nm\n",
    "    A_uls = [6.11e7,6.10e7]/u.s\n",
    "    g_us = [4,2]\n",
    "    g_ls = [2,2]\n",
    "    c = const.c.cgs\n",
    "    pi = np.pi\n",
    "    kB = const.k_B.cgs\n",
    "    m_e = const.m_e.cgs\n",
    "    m = 22.99*1.66e-24*u.g\n",
    "    e = 4.8032e-10*(u.cm**1.5*u.g**0.5/u.s)\n",
    "    gamma_rads = [4*pi*10**7.799,4*pi*10**7.798]\n",
    "    logC4s = [-15.17,-15.33]\n",
    "    sigma=[0,0]\n",
    "    log_gamma_4 = [0,0]\n",
    "    log_gamma_6 = [0,0]\n",
    "    DelamDs = [0,0]\n",
    "    Stim_Em = [0,0]\n",
    "    for i,lam0 in enumerate(lams):\n",
    "        # lam = np.linspace(588.6,590,1000)*u.nm\n",
    "        nu = c/lam\n",
    "        nu0 = c/lam0\n",
    "        T = ValTable['T'][48]*u.K\n",
    "        # natural broadening\n",
    "        gamma_rad = gamma_rads[i]/u.s\n",
    "        # quadratic Stark\n",
    "        logC4 = logC4s[i]\n",
    "        P_e = ValTable['P_e'][48]\n",
    "        gamma_4 = 10**(19+2/3*logC4+np.log10(P_e)-5/6*np.log10(T/u.K))/u.s\n",
    "        log_gamma_4[i] = np.log10(gamma_4*u.s)\n",
    "        # Van der Waals\n",
    "        logC6 = -31.7\n",
    "        P_g = ValTable['Ptotal'][48]*ValTable['Pgas/Ptotal'][48]\n",
    "        gamma_6 = 10**(20 + 0.4*logC6 + np.log10(P_g) - 0.7*np.log10(T/u.K))/u.s\n",
    "        log_gamma_6[i] = np.log10(gamma_6*u.s)\n",
    "        gammas = gamma_rad + gamma_4 + gamma_6\n",
    "        # microturbulence\n",
    "        micro = ValTable['V'][48]*u.km/u.s\n",
    "        DelvD = nu0/c*np.sqrt(2*kB*T/m+micro**2)\n",
    "        a = gammas/(4*pi*DelvD)\n",
    "        v = (nu-nu0)/DelvD\n",
    "        Hua = np.real(wofz(v + 1j * a))\n",
    "        A_ul = A_uls[i]\n",
    "        g_u = g_us[i]\n",
    "        g_l = g_ls[i]\n",
    "        f_lu = A_ul*u.s/(6.67*10**13)*g_u/g_l*(lam/u.nm)**2\n",
    "        DelamD = lam0/c*np.sqrt(2*kB*T/m+micro**2)\n",
    "        DelamDs[i] = DelamD.to(u.AA)\n",
    "        sigma[i] = np.sqrt(pi) * e**2 / (m_e * c**2) * f_lu * Hua/DelamD*lam0**2\n",
    "        # print(f'\\nnp.sqrt(pi) * e**2 / (m_e * c**2) / DelamD * lam0**2: {np.sqrt(pi) * e**2 / (m_e * c**2)/DelamD*lam0**2}')\n",
    "        # print(f'np.sqrt(pi) * e**2 / (m_e * c**2) / DelamD * lam0**2: {(np.sqrt(pi) * e**2 / (m_e * c**2)/DelamD*lam0**2).cgs}')\n",
    "        # print(f'np.sqrt(pi) * e**2 / (m_e * c**2): {np.sqrt(pi) * e**2 / (m_e * c**2)}')\n",
    "        # print(f'f_lu: {f_lu}')\n",
    "        # print(f'Hua: {Hua}')\n",
    "        # print(f'DelamD: {DelamD}')\n",
    "        # print(f'lam0**2: {lam0**2}\\n')\n",
    "        theta = 5040*u.K/T\n",
    "        X_lam = (1.2398*10**4/(lam0.to(u.AA))).value\n",
    "        Stim_Em[i] = 1-10**(-X_lam*theta)\n",
    "    return sigma[0].cgs,sigma[1].cgs"
   ]
  },
  {
   "cell_type": "code",
   "execution_count": 23,
   "metadata": {},
   "outputs": [],
   "source": [
    "lams = [589.0,589.3,589.6]*u.nm # in nm\n",
    "h = const.h.cgs\n",
    "Kappa_D1=[0,0,0]\n",
    "Kappa_D2=[0,0,0]\n",
    "sigs=[[0,0],[0,0],[0,0]]\n",
    "theta=5040*u.K/T\n",
    "Kcont = [0,0,0]\n",
    "KHbfmin = [0,0,0]\n",
    "KHffmin = [0,0,0]\n",
    "KHbf = [0,0,0]\n",
    "KHff = [0,0,0]\n",
    "Ke = [0,0,0]\n",
    "for i,lam in enumerate(lams):\n",
    "    nu = (c/lam).cgs\n",
    "    sig1,sig2 = sigma(lam)\n",
    "    sigs[i] = [sig1.value,sig2.value]\n",
    "    Kappa_D1[i] = sig1.value*Aj('Na')*ValTable['n_H'][48]/ValTable['rho'][48]*Ground*Neutral.value*(1-np.exp(-h*nu/kB/T).value)\n",
    "    Kappa_D2[i] = sig2.value*Aj('Na')*ValTable['n_H'][48]/ValTable['rho'][48]*Ground*Neutral.value*(1-np.exp(-h*nu/kB/T).value)\n",
    "    x = lam.to(u.AA).value\n",
    "    X_lam = 1.2398*10**4/(x)\n",
    "    P_e = ValTable['P_e'][48]\n",
    "    P_g = ValTable['Ptotal'][48]*ValTable['Pgas/Ptotal'][48]\n",
    "    lam=lam.to(u.AA)\n",
    "    Kcont[i],KHbfmin[i],KHffmin[i],KHbf[i],KHff[i],Ke[i] = Continuous_Opacity(T,P_e,P_g,lam,elements,ATable,NistIonizTable,PTable)"
   ]
  },
  {
   "cell_type": "code",
   "execution_count": 24,
   "metadata": {},
   "outputs": [
    {
     "name": "stdout",
     "output_type": "stream",
     "text": [
      "\t\t589.0 nm\t589.3 nm\t589.6 nm\n",
      "K (NaD1): \t0.00233\t\t0.00934\t\t459.7\n",
      "K (NaD2): \t918.2\t\t0.0187\t\t0.00468\n",
      "K (continuum): \t0.782\t\t0.782\t\t0.783\n",
      "K (Hbf-): \t0.719\t\t0.719\t\t0.720\n",
      "K (Hff-): \t0.0495\t\t0.0496\t\t0.0496\n",
      "K (Hbf): \t0.0129\t\t0.0129\t\t0.0129\n",
      "K (Hff): \t4.48e-04\t4.48e-04\t4.489e-04\n",
      "K (e-): \t1.556e-04\t1.556e-04\t1.556e-04\n"
     ]
    }
   ],
   "source": [
    "print(f'\\t\\t{lams[0]}\\t{lams[1]}\\t{lams[2]}')\n",
    "print(f'K (NaD1): \\t{Kappa_D2[0]:.5f}\\t\\t{Kappa_D2[1]:.5f}\\t\\t{Kappa_D2[2]:.1f}')\n",
    "print(f'K (NaD2): \\t{Kappa_D1[0]:.1f}\\t\\t{Kappa_D1[1]:.4f}\\t\\t{Kappa_D1[2]:.5f}')\n",
    "print(f'K (continuum): \\t{Kcont[0]:.3f}\\t\\t{Kcont[1]:.3f}\\t\\t{Kcont[2]:.3f}')\n",
    "print(f'K (Hbf-): \\t{KHbfmin[0]:.3f}\\t\\t{KHbfmin[1]:.3f}\\t\\t{KHbfmin[2]:.3f}')\n",
    "print(f'K (Hff-): \\t{KHffmin[0]:.4f}\\t\\t{KHffmin[1]:.4f}\\t\\t{KHffmin[2]:.4f}')\n",
    "print(f'K (Hbf): \\t{KHbf[0]:.4f}\\t\\t{KHbf[1]:.4f}\\t\\t{KHbf[2]:.4f}')\n",
    "print(f'K (Hff): \\t{KHff[0]:.2e}\\t{KHff[1]:.2e}\\t{KHff[2]:.3e}')\n",
    "print(f'K (e-): \\t{Ke[0]:.3e}\\t{Ke[1]:.3e}\\t{Ke[2]:.3e}')"
   ]
  },
  {
   "cell_type": "code",
   "execution_count": 26,
   "metadata": {},
   "outputs": [
    {
     "data": {
      "image/png": "[encoded data removed]",
      "text/plain": [
       "<Figure size 792x432 with 1 Axes>"
      ]
     },
     "metadata": {
      "needs_background": "light"
     },
     "output_type": "display_data"
    }
   ],
   "source": [
    "lams = np.linspace(588.5,590,1000)*u.nm # in nm\n",
    "plt.plot(lams,sigma_lines[0])\n",
    "plt.plot(lams,sigma_lines[1])\n",
    "plt.show()"
   ]
  },
  {
   "cell_type": "code",
   "execution_count": 27,
   "metadata": {},
   "outputs": [],
   "source": [
    "lams = np.linspace(588.5,590,1000)*u.nm # in nm\n",
    "h = const.h.cgs\n",
    "Kappa_D1=[0 for i in range(len(lams))]\n",
    "Kappa_D2=[0 for i in range(len(lams))]\n",
    "sigs = [[0,0] for i in range(len(lams))]\n",
    "theta=5040*u.K/T\n",
    "Kcont = [0 for i in range(len(lams))]\n",
    "KHbfmin = [0 for i in range(len(lams))]\n",
    "KHffmin = [0 for i in range(len(lams))]\n",
    "KHbf = [0 for i in range(len(lams))]\n",
    "KHff = [0 for i in range(len(lams))]\n",
    "Ke = [0 for i in range(len(lams))]\n",
    "for i,lam in enumerate(lams):\n",
    "    nu = (c/lam).cgs\n",
    "    sig1,sig2 = sigma(lam)\n",
    "    sigs[i] = [sig1.value,sig2.value]\n",
    "    Kappa_D1[i] = sig1.value*Aj('Na')*ValTable['n_H'][48]/ValTable['rho'][48]*Ground*Neutral.value*(1-np.exp(-h*nu/kB/T).value)\n",
    "    Kappa_D2[i] = sig2.value*Aj('Na')*ValTable['n_H'][48]/ValTable['rho'][48]*Ground*Neutral.value*(1-np.exp(-h*nu/kB/T).value)\n",
    "    x = lam.to(u.AA).value\n",
    "    X_lam = 1.2398*10**4/(x)\n",
    "    P_e = ValTable['P_e'][48]\n",
    "    P_g = ValTable['Ptotal'][48]*ValTable['Pgas/Ptotal'][48]\n",
    "    lam=lam.to(u.AA)\n",
    "    Kcont[i],KHbfmin[i],KHffmin[i],KHbf[i],KHff[i],Ke[i] = Continuous_Opacity(T,P_e,P_g,lam,elements,ATable,NistIonizTable,PTable)"
   ]
  },
  {
   "cell_type": "code",
   "execution_count": 28,
   "metadata": {},
   "outputs": [
    {
     "data": {
      "image/png": "[encoded data removed]",
      "text/plain": [
       "<Figure size 792x432 with 1 Axes>"
      ]
     },
     "metadata": {
      "needs_background": "light"
     },
     "output_type": "display_data"
    },
    {
     "data": {
      "image/png": "[encoded data removed]",
      "text/plain": [
       "<Figure size 792x432 with 1 Axes>"
      ]
     },
     "metadata": {
      "needs_background": "light"
     },
     "output_type": "display_data"
    }
   ],
   "source": [
    "x = lams/u.nm\n",
    "plt.plot(x,Kappa_D1,label=r'$\\kappa$ (NaD1)')\n",
    "plt.plot(x,Kappa_D2,label=r'$\\kappa$ (NaD2)')\n",
    "plt.plot(x,Kcont,linewidth=5,linestyle=':',label=r'$\\kappa$ (continuum)')\n",
    "plt.plot(x,KHbfmin,linestyle='--',label=r'$\\kappa$ (H_{bf}^-)')\n",
    "plt.plot(x,KHffmin,linestyle='--',label=r'$\\kappa$ (H_{ff}^-)')\n",
    "plt.plot(x,KHbf,linewidth=2,linestyle='--',label=r'$\\kappa$ (H_{bf})')\n",
    "plt.plot(x,KHff,linewidth=5,linestyle=':',label=r'$\\kappa$ (H_{ff})')\n",
    "plt.plot(x,Ke,linewidth=2,linestyle='--',color='k',label=r'$\\kappa$ (e^-)')\n",
    "plt.plot(x,[K1+K2+K3+K4+K5 for K1,K2,K3,K4,K5 in zip(KHbfmin,KHffmin,KHbf,KHff,Ke)],linestyle='-',label=r'$\\sum \\kappa (H*) + \\kappa (e)$')\n",
    "# plt.ylim(0,10)\n",
    "plt.ylim(-0.05,1.1*max(Kcont))\n",
    "plt.xlim(min(x),590.8)\n",
    "plt.legend()\n",
    "plt.show()\n",
    "plt.plot(x,Kappa_D1,label=r'$\\kappa$ (NaD1)')\n",
    "plt.plot(x,Kappa_D2,label=r'$\\kappa$ (NaD2)')\n",
    "plt.plot(x,Kcont,linewidth=5,linestyle=':',label=r'$\\kappa$ (continuum)')\n",
    "plt.plot(x,KHbfmin,linestyle='--',label=r'$\\kappa$ (H_{bf}^-)')\n",
    "plt.plot(x,KHffmin,linestyle='--',label=r'$\\kappa$ (H_{ff}^-)')\n",
    "plt.plot(x,KHbf,linewidth=2,linestyle='--',label=r'$\\kappa$ (H_{bf})')\n",
    "plt.plot(x,KHff,linewidth=5,linestyle=':',label=r'$\\kappa$ (H_{ff})')\n",
    "plt.plot(x,Ke,linewidth=2,linestyle='--',color='k',label=r'$\\kappa$ (e^-)')\n",
    "plt.plot(x,[K1+K2+K3+K4+K5 for K1,K2,K3,K4,K5 in zip(KHbfmin,KHffmin,KHbf,KHff,Ke)],linestyle='-',label=r'$\\sum \\kappa (H*) + \\kappa (e)$')\n",
    "plt.yscale('log')\n",
    "# plt.ylim(-0.05,1.1*max(Kcont))\n",
    "plt.xlim(min(x),590.8)\n",
    "plt.legend()\n",
    "plt.show()"
   ]
  },
  {
   "cell_type": "code",
   "execution_count": null,
   "metadata": {},
   "outputs": [
    {
     "ename": "NameError",
     "evalue": "name 'stop' is not defined",
     "output_type": "error",
     "traceback": [
      "\u001b[0;31m---------------------------------------------------------------------------\u001b[0m",
      "\u001b[0;31mNameError\u001b[0m                                 Traceback (most recent call last)",
      "\u001b[0;32m/tmp/ipykernel_16041/2728505135.py\u001b[0m in \u001b[0;36m<module>\u001b[0;34m\u001b[0m\n\u001b[0;32m----> 1\u001b[0;31m \u001b[0mstop\u001b[0m \u001b[0;34m=\u001b[0m \u001b[0mstop\u001b[0m\u001b[0;34m\u001b[0m\u001b[0;34m\u001b[0m\u001b[0m\n\u001b[0m",
      "\u001b[0;31mNameError\u001b[0m: name 'stop' is not defined"
     ]
    }
   ],
   "source": [
    "stop = stop"
   ]
  },
  {
   "cell_type": "code",
   "execution_count": null,
   "metadata": {},
   "outputs": [],
   "source": []
  }
 ],
 "metadata": {
  "interpreter": {
   "hash": "dbf213ce58016b7602f3ba0efc2a89c94bf840a9d34d1627df77c52bdb9fbe6b"
  },
  "kernelspec": {
   "display_name": "Python 3.9.7 (conda)",
   "language": "python",
   "name": "python3"
  },
  "language_info": {
   "codemirror_mode": {
    "name": "ipython",
    "version": 3
   },
   "file_extension": ".py",
   "mimetype": "text/x-python",
   "name": "python",
   "nbconvert_exporter": "python",
   "pygments_lexer": "ipython3",
   "version": "3.9.7"
  },
  "orig_nbformat": 4
 },
 "nbformat": 4,
 "nbformat_minor": 2
}
